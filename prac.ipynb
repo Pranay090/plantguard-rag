{
 "cells": [
  {
   "cell_type": "code",
   "execution_count": 1,
   "metadata": {},
   "outputs": [
    {
     "name": "stdout",
     "output_type": "stream",
     "text": [
      "hello world\n"
     ]
    }
   ],
   "source": [
    "print(\"hello world\")"
   ]
  },
  {
   "cell_type": "code",
   "execution_count": 2,
   "metadata": {},
   "outputs": [
    {
     "name": "stdout",
     "output_type": "stream",
     "text": [
      "Data has been written to 'formatted_data.txt'\n"
     ]
    }
   ],
   "source": [
    "import pandas as pd\n",
    "\n",
    "# Read the CSV file\n",
    "csv_file = 'data/rice_crop_dataset.csv'  # replace with your file path\n",
    "data = pd.read_csv(csv_file)\n",
    "\n",
    "# Open a text file to write the formatted data\n",
    "with open('formatted_data.txt', 'w') as file:\n",
    "    for index, row in data.iterrows():\n",
    "        # Extract the timestamp and crop name\n",
    "        timestamp = row['timestamp']\n",
    "        date, time = timestamp.split(' ')\n",
    "        \n",
    "        # Extract the parameters\n",
    "        N = row['N']\n",
    "        P = row['P']\n",
    "        K = row['K']\n",
    "        humidity = row['humidity']\n",
    "        soil_pH = row['soil_pH']\n",
    "        temperature = row['temperature']\n",
    "        crop_name = row['crop_name']\n",
    "        \n",
    "        # Create the formatted string\n",
    "        formatted_string = (\n",
    "            f\"For my {crop_name} crop, \"\n",
    "            f\"at time {time} on {date} the Nitrogen value (n value) was {N}, \"\n",
    "            f\"Phosphorus value (p value) was {P}, potassium value (k value) was {K}, \"\n",
    "            f\"humidity was {humidity}, soil pH was {soil_pH}, and temperature was {temperature}.\\n\"\n",
    "        )\n",
    "        \n",
    "        # Write the formatted string to the text file\n",
    "        file.write(formatted_string + '\\n')\n",
    "\n",
    "print(\"Data has been written to 'formatted_data.txt'\")\n"
   ]
  }
 ],
 "metadata": {
  "kernelspec": {
   "display_name": "venv",
   "language": "python",
   "name": "python3"
  },
  "language_info": {
   "codemirror_mode": {
    "name": "ipython",
    "version": 3
   },
   "file_extension": ".py",
   "mimetype": "text/x-python",
   "name": "python",
   "nbconvert_exporter": "python",
   "pygments_lexer": "ipython3",
   "version": "3.12.3"
  }
 },
 "nbformat": 4,
 "nbformat_minor": 2
}
